{
 "cells": [
  {
   "cell_type": "code",
   "execution_count": null,
   "id": "6b02016c-8899-40af-9294-bbf32154c105",
   "metadata": {},
   "outputs": [],
   "source": [
    "from huggingface_hub import snapshot_download\n",
    "from pathlib import Path\n",
    "\n",
    "local_cache_path = Path(\"./XXX_model\")\n",
    "local_cache_path.mkdir(exist_ok=True)\n",
    "\n",
    "model_name = \"TheBloke/Wizard-Vicuna-7B-Uncensored-HF\"\n",
    "\n",
    "# Only download pytorch checkpoint files\n",
    "allow_patterns = [\"*.json\", \"*.pt\", \"*.bin\", \"*.model\"]\n",
    "\n",
    "model_download_path = snapshot_download(\n",
    "    repo_id=model_name,\n",
    "    cache_dir=local_cache_path,\n",
    "    allow_patterns=allow_patterns,\n",
    ")"
   ]
  },
  {
   "cell_type": "code",
   "execution_count": null,
   "id": "26f4ddb8-6224-4c3b-a2c7-0b800b53705f",
   "metadata": {},
   "outputs": [],
   "source": [
    "# check the downloaded model artifacts in snapshots (as source path)\n",
    "local_path = 'XXX_model/models--TheBloke--Wizard-Vicuna-7B-Uncensored-HF/snapshots/b802f1b4401d0b2242137160c20cc11b9ffd3a4c/'\n",
    "\n",
    "# specify the destination s3 path (as destination path)\n",
    "s3_model_loc = 's3://XXXXX/bloke-wizard-7b/'"
   ]
  },
  {
   "cell_type": "code",
   "execution_count": null,
   "id": "0aca32ab-c312-4e46-bded-ff3a94e4facd",
   "metadata": {},
   "outputs": [],
   "source": [
    "!aws s3 cp ./{local_path} {s3_model_loc} --recursive "
   ]
  },
  {
   "cell_type": "code",
   "execution_count": null,
   "id": "6150b213-e97f-4569-bb0f-ec962e8b065b",
   "metadata": {},
   "outputs": [],
   "source": []
  }
 ],
 "metadata": {
  "kernelspec": {
   "display_name": "conda_python3",
   "language": "python",
   "name": "conda_python3"
  },
  "language_info": {
   "codemirror_mode": {
    "name": "ipython",
    "version": 3
   },
   "file_extension": ".py",
   "mimetype": "text/x-python",
   "name": "python",
   "nbconvert_exporter": "python",
   "pygments_lexer": "ipython3",
   "version": "3.10.8"
  }
 },
 "nbformat": 4,
 "nbformat_minor": 5
}
