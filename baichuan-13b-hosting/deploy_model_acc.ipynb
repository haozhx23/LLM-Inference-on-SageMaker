{
 "cells": [
  {
   "cell_type": "code",
   "execution_count": 10,
   "id": "a81a1c0c-e878-4f7f-aae2-a3646494a8d2",
   "metadata": {
    "tags": []
   },
   "outputs": [],
   "source": [
    "import sagemaker\n",
    "from sagemaker import image_uris\n",
    "import boto3\n",
    "import os\n",
    "import time\n",
    "import json\n",
    "from pathlib import Path\n",
    "from sagemaker.utils import name_from_base\n",
    "\n",
    "role = sagemaker.get_execution_role()  # execution role for the endpoint\n",
    "sess = sagemaker.session.Session()  # sagemaker session for interacting with different AWS APIs\n",
    "default_bucket = sess.default_bucket()  # bucket to house artifacts\n",
    "region = sess._region_name"
   ]
  },
  {
   "cell_type": "code",
   "execution_count": 11,
   "id": "68a3c862-a19e-4755-821b-00702c887f30",
   "metadata": {
    "tags": []
   },
   "outputs": [
    {
     "name": "stdout",
     "output_type": "stream",
     "text": [
      "acc-baichuan13b-model/\n",
      "acc-baichuan13b-model/serving.properties\n",
      "acc-baichuan13b-model/requirements.txt\n",
      "acc-baichuan13b-model/model.py\n",
      "s3://sagemaker-us-east-1-633205212955/tmp0717/v1-2023-07-17-15-00-41-971/acc-baichuan13b-model.tar.gz\n"
     ]
    }
   ],
   "source": [
    "code_tarname = 'acc-baichuan13b-model'\n",
    "endpoint_name = sagemaker.utils.name_from_base(code_tarname)\n",
    "\n",
    "!rm -rf {code_tarname}.tar.gz\n",
    "!rm -rf {code_tarname}/.ipynb_checkpoints\n",
    "!tar czvf {code_tarname}.tar.gz {code_tarname}/\n",
    "\n",
    "# copy the deployment configs tar to a path (different from hf model artifacts)\n",
    "s3_code_artifact = sess.upload_data(f\"{code_tarname}.tar.gz\", default_bucket, sagemaker.utils.name_from_base(\"tmp0717/v1\"))\n",
    "print(s3_code_artifact)"
   ]
  },
  {
   "cell_type": "code",
   "execution_count": 12,
   "id": "955fce1c-e119-4e4f-ae57-c50568d04e94",
   "metadata": {
    "tags": []
   },
   "outputs": [],
   "source": [
    "# specify a inference container version, found at: \n",
    "# https://github.com/aws/deep-learning-containers/blob/master/available_images.md#large-model-inference-containers\n",
    "\n",
    "inference_image_uri = f\"763104351884.dkr.ecr.{region}.amazonaws.com/djl-inference:0.22.1-deepspeed0.9.2-cu118\""
   ]
  },
  {
   "cell_type": "code",
   "execution_count": 13,
   "id": "b733c70d-272a-4bf0-8b80-7f05222efef6",
   "metadata": {
    "tags": []
   },
   "outputs": [
    {
     "name": "stdout",
     "output_type": "stream",
     "text": [
      "---------------!"
     ]
    }
   ],
   "source": [
    "from sagemaker.model import Model\n",
    "\n",
    "model = Model(image_uri=inference_image_uri,\n",
    "              model_data=s3_code_artifact, \n",
    "              role=role)\n",
    "\n",
    "model.deploy(initial_instance_count = 1,\n",
    "             instance_type = 'ml.g5.12xlarge',\n",
    "             endpoint_name = endpoint_name,\n",
    "             container_startup_health_check_timeout = 900\n",
    "            )"
   ]
  },
  {
   "cell_type": "markdown",
   "id": "6a3d2ab9-f1aa-4e0c-8449-dc5f127e7c32",
   "metadata": {},
   "source": [
    "## Predict"
   ]
  },
  {
   "cell_type": "markdown",
   "id": "4d18334f-c41d-4e6a-b5ed-e520ad01a209",
   "metadata": {},
   "source": [
    "- Use the 'endpoint_name' variable defined above, or directly copy from SageMaker console\n",
    "- ```endpoint_name = 'xxxxx'```"
   ]
  },
  {
   "cell_type": "code",
   "execution_count": 14,
   "id": "74dfa03d-318e-4a4a-8892-c0a250765d44",
   "metadata": {
    "tags": []
   },
   "outputs": [],
   "source": [
    "from sagemaker import serializers, deserializers\n",
    "\n",
    "# endpoint_name = 'xxxxx'\n",
    "\n",
    "predictor = sagemaker.Predictor(\n",
    "            endpoint_name=endpoint_name,\n",
    "            sagemaker_session=sess,\n",
    "            serializer=serializers.JSONSerializer(),\n",
    "            deserializer=deserializers.JSONDeserializer(),\n",
    "            )"
   ]
  },
  {
   "cell_type": "code",
   "execution_count": 15,
   "id": "c691bb4d-124c-4f5a-a22c-dbcfae44b4a8",
   "metadata": {
    "tags": []
   },
   "outputs": [
    {
     "data": {
      "text/plain": [
       "{'response': \"tuna sandwich nutritional content is 1.23 grams of protein per serving, which isn't much at all for a high-protein meal like this one!\\nThe best part about the Tuna Sandwich recipe? It only takes five minutes to make and it can be made in advance so you don't have to worry if your lunch gets cold or soggy while sitting on top of that hot desk chair (or worse yet - underneath) during work hours when there are no microwave ovens available nearby :) The ingredients used here include: canned white albacore fish packed with water; mayonnaise mixed together from scratch using just three simple pantry staples including olive oil & lemon juice as well as salt/pepper seasonings added into taste preference ; whole wheat bread slices cut diagonally across each other before placing them onto baking sheet lined up next to another slice already placed down first then topped off by two more pieces afterwards until they reach full capacity without any\"}"
      ]
     },
     "execution_count": 15,
     "metadata": {},
     "output_type": "execute_result"
    }
   ],
   "source": [
    "predictor.predict(\n",
    "    {\"inputs\": \"tuna sandwich nutritional content is \", \n",
    "     \"parameters\": {\"max_new_tokens\": 200, \"repetition_penalty\":1.1}\n",
    "     }\n",
    ")"
   ]
  },
  {
   "cell_type": "code",
   "execution_count": 17,
   "id": "0fbc276e-5ae3-4a8c-9f69-4a97db56d9d6",
   "metadata": {
    "tags": []
   },
   "outputs": [
    {
     "name": "stdout",
     "output_type": "stream",
     "text": [
      "15.4 s ± 0 ns per loop (mean ± std. dev. of 1 run, 3 loops each)\n"
     ]
    }
   ],
   "source": [
    "%%timeit -n3 -r1\n",
    "predictor.predict(\n",
    "    {\"inputs\": \"tuna sandwich nutritional content is \", \n",
    "     \"parameters\": {\"max_new_tokens\": 200, \"repetition_penalty\":1.1}\n",
    "     }\n",
    ")"
   ]
  },
  {
   "cell_type": "code",
   "execution_count": null,
   "id": "6ac83bd1-bcfd-483f-a103-fcee25b3994a",
   "metadata": {},
   "outputs": [],
   "source": []
  },
  {
   "cell_type": "code",
   "execution_count": null,
   "id": "07206080-9365-4ba1-b4fb-81c42cbaeeb2",
   "metadata": {},
   "outputs": [],
   "source": []
  },
  {
   "cell_type": "code",
   "execution_count": null,
   "id": "94e86b65-018d-439c-8b8c-a65938b2d04f",
   "metadata": {},
   "outputs": [],
   "source": []
  },
  {
   "cell_type": "code",
   "execution_count": null,
   "id": "c97a0d5e-96f3-47ef-9e0a-06ca3a25c50f",
   "metadata": {},
   "outputs": [],
   "source": []
  },
  {
   "cell_type": "code",
   "execution_count": null,
   "id": "1274be10-bd30-4dcb-9364-0df6b5af7c57",
   "metadata": {},
   "outputs": [],
   "source": []
  }
 ],
 "metadata": {
  "kernelspec": {
   "display_name": "conda_python3",
   "language": "python",
   "name": "conda_python3"
  },
  "language_info": {
   "codemirror_mode": {
    "name": "ipython",
    "version": 3
   },
   "file_extension": ".py",
   "mimetype": "text/x-python",
   "name": "python",
   "nbconvert_exporter": "python",
   "pygments_lexer": "ipython3",
   "version": "3.10.10"
  }
 },
 "nbformat": 4,
 "nbformat_minor": 5
}
