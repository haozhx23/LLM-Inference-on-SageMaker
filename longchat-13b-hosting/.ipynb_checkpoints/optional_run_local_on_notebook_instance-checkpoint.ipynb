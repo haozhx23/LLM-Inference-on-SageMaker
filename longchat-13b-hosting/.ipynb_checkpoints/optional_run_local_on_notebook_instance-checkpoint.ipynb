{
 "cells": [
  {
   "cell_type": "code",
   "execution_count": 3,
   "id": "c48def64-e246-4e26-a581-969eab0aa859",
   "metadata": {
    "tags": []
   },
   "outputs": [],
   "source": [
    "# (test) Deploy locally on notebook intance \n",
    "# notebook instance - g5.12xl \n",
    "# kernel - conda_pytorch_p310"
   ]
  },
  {
   "cell_type": "code",
   "execution_count": null,
   "id": "c386be6a-834e-4743-9ac4-c300d617c17a",
   "metadata": {},
   "outputs": [],
   "source": [
    "import torch\n",
    "import logging\n",
    "from transformers import pipeline, AutoModelForCausalLM, AutoTokenizer, AutoConfig\n",
    "import os\n",
    "##\n",
    "\n",
    "code_tarname = 'acc_longchat13b_model'"
   ]
  },
  {
   "cell_type": "code",
   "execution_count": null,
   "id": "6983a484-e3e0-4d5c-a753-8f9470153334",
   "metadata": {},
   "outputs": [],
   "source": [
    "!pip install -r requirements.txt"
   ]
  },
  {
   "cell_type": "code",
   "execution_count": null,
   "id": "e72002c5-18e8-4e9c-b8aa-38dfc7394483",
   "metadata": {},
   "outputs": [],
   "source": [
    "!git clone https://github.com/lm-sys/FastChat.git {code_tarname}"
   ]
  },
  {
   "cell_type": "code",
   "execution_count": null,
   "id": "0fbb37de-cb23-4a11-97e5-2f93f0246600",
   "metadata": {},
   "outputs": [],
   "source": [
    "!cd {code_tarname} && python -m pip install ."
   ]
  },
  {
   "cell_type": "code",
   "execution_count": 5,
   "id": "26ae4979-964d-4561-82e6-2a880fcc5ac5",
   "metadata": {
    "tags": []
   },
   "outputs": [],
   "source": [
    "model = None\n",
    "tokenizer = None\n"
   ]
  },
  {
   "cell_type": "code",
   "execution_count": 6,
   "id": "133400b4-014f-4920-a055-9d7861e7e04d",
   "metadata": {
    "tags": []
   },
   "outputs": [
    {
     "data": {
      "application/vnd.jupyter.widget-view+json": {
       "model_id": "58ae174a0744467fb886096949328970",
       "version_major": 2,
       "version_minor": 0
      },
      "text/plain": [
       "Loading checkpoint shards:   0%|          | 0/3 [00:00<?, ?it/s]"
      ]
     },
     "metadata": {},
     "output_type": "display_data"
    }
   ],
   "source": [
    "model_name = 'lmsys/longchat-13b-16k'\n",
    "\n",
    "revision = 'main'\n",
    "config = AutoConfig.from_pretrained(model_name, revision=revision)\n",
    "from fastchat.model.llama_condense_monkey_patch import (\n",
    "        replace_llama_with_condense,\n",
    "    )\n",
    "\n",
    "replace_llama_with_condense(config.rope_condense_ratio)\n",
    "\n",
    "tokenizer = AutoTokenizer.from_pretrained(\n",
    "        model_name, use_fast=True, revision=revision, trust_remote_code=True\n",
    "    )\n",
    "model = AutoModelForCausalLM.from_pretrained(\n",
    "    model_name,\n",
    "    low_cpu_mem_usage=True,\n",
    "    torch_dtype=torch.float16,\n",
    "    device_map=\"auto\",\n",
    "    trust_remote_code=True,\n",
    "    max_memory={i: \"20GiB\" for i in range(4)}\n",
    ")"
   ]
  },
  {
   "cell_type": "code",
   "execution_count": 9,
   "id": "8a670f44-a355-48c3-bc42-65cfc4378e29",
   "metadata": {
    "tags": []
   },
   "outputs": [],
   "source": [
    "data = 'what nutritional contents is in a tuna sandwich'"
   ]
  },
  {
   "cell_type": "code",
   "execution_count": 11,
   "id": "183cf925-3308-484c-bbd5-c9e2a9954954",
   "metadata": {
    "tags": []
   },
   "outputs": [],
   "source": [
    "\n",
    "input_tokens = tokenizer(data, padding=True,\n",
    "                         return_tensors=\"pt\",\n",
    "                         return_token_type_ids=False, # https://github.com/huggingface/peft/issues/506\n",
    "                        ).to(torch.cuda.current_device())\n",
    "\n",
    "output_ids = model.generate(\n",
    "    **input_tokens, # **parameters\n",
    "    do_sample=True,\n",
    "    temperature=0.7,\n",
    "    repetition_penalty=1.1,\n",
    "    max_new_tokens=100,\n",
    ")\n",
    "\n",
    "output_ids = output_ids[0][len(input_tokens[\"input_ids\"][0]) :]\n",
    "generated_text = tokenizer.decode(\n",
    "    output_ids, skip_special_tokens=True, spaces_between_special_tokens=False\n",
    ")\n",
    "\n",
    "# generated_text = tokenizer.batch_decode(output_tokens, ...)"
   ]
  },
  {
   "cell_type": "code",
   "execution_count": 12,
   "id": "4beaf0f9-04b8-42b9-bc18-05c5780bbeca",
   "metadata": {
    "tags": []
   },
   "outputs": [
    {
     "data": {
      "text/plain": [
       "'. The first step in making a tuna sandwich is to prepare the ingredients, which includes slicing the bread, opening a can of tuna and draining the liquid, chopping vegetables such as lettuce, tomatoes, and onions, and measuring any additional ingredients like mayonnaise or mustard. Next, you would assemble the sandwich by spreading mayonnaise or mustard on one slice of bread, placing the tuna slices'"
      ]
     },
     "execution_count": 12,
     "metadata": {},
     "output_type": "execute_result"
    }
   ],
   "source": [
    "generated_text"
   ]
  },
  {
   "cell_type": "code",
   "execution_count": null,
   "id": "db00fc0b-270d-4ff7-abdf-f7410818720b",
   "metadata": {},
   "outputs": [],
   "source": []
  }
 ],
 "metadata": {
  "kernelspec": {
   "display_name": "conda_pytorch_p310",
   "language": "python",
   "name": "conda_pytorch_p310"
  },
  "language_info": {
   "codemirror_mode": {
    "name": "ipython",
    "version": 3
   },
   "file_extension": ".py",
   "mimetype": "text/x-python",
   "name": "python",
   "nbconvert_exporter": "python",
   "pygments_lexer": "ipython3",
   "version": "3.10.10"
  }
 },
 "nbformat": 4,
 "nbformat_minor": 5
}
