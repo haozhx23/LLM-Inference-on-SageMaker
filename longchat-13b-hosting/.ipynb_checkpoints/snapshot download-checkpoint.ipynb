{
 "cells": [
  {
   "cell_type": "code",
   "execution_count": null,
   "id": "79b4b99f-20c8-4898-85b0-b35f26944dfa",
   "metadata": {},
   "outputs": [],
   "source": []
  },
  {
   "cell_type": "code",
   "execution_count": null,
   "id": "ca21f02f-cff4-4098-9ed2-c7ac4e671e05",
   "metadata": {
    "tags": []
   },
   "outputs": [],
   "source": [
    "from huggingface_hub import snapshot_download\n",
    "from pathlib import Path\n",
    "\n",
    "local_cache_path = Path(\"./lcl_model\")\n",
    "local_cache_path.mkdir(exist_ok=True)\n",
    "\n",
    "model_name = \"lmsys/longchat-13b-16k\"\n",
    "\n",
    "# Only download pytorch checkpoint files\n",
    "allow_patterns = [\"*.json\", \"*.pt\", \"*.bin\", \"*.model\"]\n",
    "\n",
    "model_download_path = snapshot_download(\n",
    "    repo_id=model_name,\n",
    "    cache_dir=local_cache_path,\n",
    "    allow_patterns=allow_patterns,\n",
    ")"
   ]
  },
  {
   "cell_type": "code",
   "execution_count": null,
   "id": "45ac94da-374d-413a-b0cf-3b951b4d142a",
   "metadata": {
    "tags": []
   },
   "outputs": [],
   "source": [
    "# check the downloaded model artifacts in snapshots (as source path)\n",
    "local_path = 'lcl_model/models--lmsys--longchat-13b-16k/snapshots/45bb3f268aedf0117c0f1595b11ce57189716728/'\n",
    "\n",
    "# specify the destination s3 path (as destination path)\n",
    "s3_model_loc = 's3://<YOUR_BUCKE_TNAME>/longchat-13b-16k/'"
   ]
  },
  {
   "cell_type": "code",
   "execution_count": null,
   "id": "194e6dcb-4c8b-4e8b-91d5-bf4839da528f",
   "metadata": {
    "tags": []
   },
   "outputs": [],
   "source": [
    "!aws s3 cp {local_path} {s3_model_loc} --recursive "
   ]
  },
  {
   "cell_type": "code",
   "execution_count": null,
   "id": "20a2e85a-2e3f-4d3f-a16f-8766ffec9ffa",
   "metadata": {},
   "outputs": [],
   "source": []
  }
 ],
 "metadata": {
  "kernelspec": {
   "display_name": "conda_pytorch_p310",
   "language": "python",
   "name": "conda_pytorch_p310"
  },
  "language_info": {
   "codemirror_mode": {
    "name": "ipython",
    "version": 3
   },
   "file_extension": ".py",
   "mimetype": "text/x-python",
   "name": "python",
   "nbconvert_exporter": "python",
   "pygments_lexer": "ipython3",
   "version": "3.10.10"
  }
 },
 "nbformat": 4,
 "nbformat_minor": 5
}
