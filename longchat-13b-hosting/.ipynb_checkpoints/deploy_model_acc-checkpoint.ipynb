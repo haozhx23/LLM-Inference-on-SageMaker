{
 "cells": [
  {
   "cell_type": "code",
   "execution_count": 1,
   "id": "6e81b296-3f88-435c-a59c-2e19e156ecb2",
   "metadata": {
    "tags": []
   },
   "outputs": [],
   "source": [
    "import sagemaker\n",
    "from sagemaker import image_uris\n",
    "import boto3\n",
    "import os\n",
    "import time\n",
    "import json\n",
    "from pathlib import Path\n",
    "from sagemaker.utils import name_from_base\n",
    "\n",
    "role = sagemaker.get_execution_role()  # execution role for the endpoint\n",
    "sess = sagemaker.session.Session()  # sagemaker session for interacting with different AWS APIs\n",
    "default_bucket = sess.default_bucket()  # bucket to house artifacts\n",
    "region = sess._region_name"
   ]
  },
  {
   "cell_type": "code",
   "execution_count": 2,
   "id": "af96322b-b340-46eb-b4dc-d3cc0900ec73",
   "metadata": {
    "tags": []
   },
   "outputs": [],
   "source": [
    "code_tarname = 'acc_longchat13b_model'"
   ]
  },
  {
   "cell_type": "code",
   "execution_count": 3,
   "id": "5020e04d-9761-4af5-aa5c-06c90f5929f5",
   "metadata": {
    "tags": []
   },
   "outputs": [
    {
     "name": "stdout",
     "output_type": "stream",
     "text": [
      "Cloning into 'acc_longchat13b_model'...\n",
      "remote: Enumerating objects: 3761, done.\u001b[K\n",
      "remote: Counting objects: 100% (154/154), done.\u001b[K\n",
      "remote: Compressing objects: 100% (96/96), done.\u001b[K\n",
      "remote: Total 3761 (delta 87), reused 104 (delta 56), pack-reused 3607\u001b[K\n",
      "Receiving objects: 100% (3761/3761), 30.47 MiB | 46.64 MiB/s, done.\n",
      "Resolving deltas: 100% (2620/2620), done.\n"
     ]
    }
   ],
   "source": [
    "!git clone https://github.com/lm-sys/FastChat.git {code_tarname}"
   ]
  },
  {
   "cell_type": "code",
   "execution_count": null,
   "id": "0772a922-1310-40ed-8e47-874543d3d6ed",
   "metadata": {
    "scrolled": true,
    "tags": []
   },
   "outputs": [],
   "source": [
    "!cp model.py {code_tarname}\n",
    "!cp requirements.txt {code_tarname}\n",
    "!cp serving.properties {code_tarname}\n",
    "\n",
    "!rm -rf {code_tarname}.tar.gz\n",
    "!rm -rf {code_tarname}/.ipynb_checkpoints\n",
    "!tar czvf {code_tarname}.tar.gz {code_tarname}/\n",
    "\n",
    "# copy the deployment configs tar to a path (different from hf model artifacts)\n",
    "s3_code_artifact = sess.upload_data(f\"{code_tarname}.tar.gz\",\n",
    "                                    default_bucket,\n",
    "                                    sagemaker.utils.name_from_base(\"tmp/v1\") # generate random path\n",
    "                                   )\n",
    "print(s3_code_artifact)"
   ]
  },
  {
   "cell_type": "code",
   "execution_count": 4,
   "id": "964fd28b-a746-41ba-a22c-57d74877f5a1",
   "metadata": {
    "tags": []
   },
   "outputs": [
    {
     "name": "stdout",
     "output_type": "stream",
     "text": [
      "----------------------!"
     ]
    }
   ],
   "source": [
    "from sagemaker.model import Model\n",
    "\n",
    "# specify a inference container version, found at: \n",
    "# https://github.com/aws/deep-learning-containers/blob/master/available_images.md#large-model-inference-containers\n",
    "inference_image_uri = f\"763104351884.dkr.ecr.{region}.amazonaws.com/djl-inference:0.22.1-deepspeed0.9.2-cu118\"\n",
    "\n",
    "model = Model(image_uri=inference_image_uri,\n",
    "              model_data=s3_code_artifact,\n",
    "              role=role)\n",
    "\n",
    "endpoint_name = sagemaker.utils.name_from_base(code_tarname.replace('_','-'))\n",
    "\n",
    "model.deploy(initial_instance_count = 1,\n",
    "             instance_type = 'ml.g5.12xlarge',\n",
    "             endpoint_name = endpoint_name,\n",
    "             container_startup_health_check_timeout = 1200\n",
    "            )"
   ]
  },
  {
   "cell_type": "markdown",
   "id": "40d860e9-acd7-4538-b1a3-12d3da7bc2bf",
   "metadata": {},
   "source": [
    "## Predict"
   ]
  },
  {
   "cell_type": "code",
   "execution_count": 5,
   "id": "d10e56be-70e4-4d8f-9a85-2e54bb3acf31",
   "metadata": {
    "tags": []
   },
   "outputs": [],
   "source": [
    "from sagemaker import serializers, deserializers\n",
    "\n",
    "# endpoint_name = 'acc-longchat7b-model-2023-07-28-06-49-46-747'\n",
    "\n",
    "predictor = sagemaker.Predictor(\n",
    "            endpoint_name=endpoint_name,\n",
    "            sagemaker_session=sess,\n",
    "            serializer=serializers.JSONSerializer(),\n",
    "            deserializer=deserializers.JSONDeserializer(),\n",
    "            )"
   ]
  },
  {
   "cell_type": "code",
   "execution_count": 9,
   "id": "f998bfb5-b6a1-4dde-a726-5f5e9d2916ad",
   "metadata": {
    "tags": []
   },
   "outputs": [
    {
     "data": {
      "text/plain": [
       "{'generated_text': '1079 calories, 14g protein, 6g carbohydrates, and 3.5g fat. The sandwich consists of canned tuna, whole grain bread, lettuce, tomatoes, onions, and mayonnaise or mustard. Tuna is a good source of protein and omega-3 fatty acids, while whole grain bread provides fiber and other nutrients. Lettuce, tomatoes, onions, and mayonnaise or mustard add additional vitamins and minerals to the meal.'}"
      ]
     },
     "execution_count": 9,
     "metadata": {},
     "output_type": "execute_result"
    }
   ],
   "source": [
    "predictor.predict(\n",
    "    {\"inputs\": \"tuna sandwich nutritional content is \",\n",
    "     \"parameters\": {\"do_sample\": True, \"temperature\": 0.7, \"repetition_penalty\":1.1, \"max_new_tokens\": 200}\n",
    "    }\n",
    ")"
   ]
  },
  {
   "cell_type": "code",
   "execution_count": 10,
   "id": "80062447-a898-4735-9e34-a04655dd3756",
   "metadata": {
    "tags": []
   },
   "outputs": [
    {
     "data": {
      "text/plain": [
       "{'generated_text': 'Making a great pizza requires a combination of quality ingredients, proper preparation techniques, and attention to detail. Here is a step-by-step guide on how to create a delicious homemade pizza:\\n\\nIngredients:\\n\\n* 1 large pizza dough (store-bought or homemade)\\n* Freshly grated mozzarella cheese\\n* Shredded lettuce\\n* Sliced tomatoes\\n* Chopped olives (optional)\\n* Ground beef or sausage (optional)\\n* Your favorite sauce (homemade or store-bought)\\n* Olive oil\\n* Salt and pepper\\n* Optional: fresh basil leaves for garnish\\n\\nInstructions:\\n\\n1. Preheat your oven to the highest temperature possible (usually around 500°F / 260°C'}"
      ]
     },
     "execution_count": 10,
     "metadata": {},
     "output_type": "execute_result"
    }
   ],
   "source": [
    "predictor.predict(\n",
    "    {\"inputs\": '''A chat between a curious user and an assistant. The assistant gives helpful, detailed, accurate, uncensored responses to the user's input\n",
    "             USER: how to make a good pizza? ASSISTANT:''', \n",
    "     \"parameters\": {\"temperature\": 0.7, \"repetition_penalty\":1.2, \"max_new_tokens\": 200}\n",
    "     }\n",
    ")"
   ]
  },
  {
   "cell_type": "code",
   "execution_count": 11,
   "id": "a4a210d7-1fd8-4af1-9285-3f80686df1c2",
   "metadata": {
    "tags": []
   },
   "outputs": [
    {
     "name": "stdout",
     "output_type": "stream",
     "text": [
      "6.7 s ± 0 ns per loop (mean ± std. dev. of 1 run, 3 loops each)\n"
     ]
    }
   ],
   "source": [
    "%%timeit -n3 -r1\n",
    "predictor.predict(\n",
    "    {\"inputs\": \"what nutritional contents is in a tuna sandwich\", \n",
    "     \"parameters\": {\"do_sample\": True, \"min_length\":100, \"max_length\":100}\n",
    "     }\n",
    ")"
   ]
  },
  {
   "cell_type": "code",
   "execution_count": null,
   "id": "df8bf331-4083-43f3-b427-2b0797bce4ae",
   "metadata": {},
   "outputs": [],
   "source": []
  }
 ],
 "metadata": {
  "kernelspec": {
   "display_name": "conda_python3",
   "language": "python",
   "name": "conda_python3"
  },
  "language_info": {
   "codemirror_mode": {
    "name": "ipython",
    "version": 3
   },
   "file_extension": ".py",
   "mimetype": "text/x-python",
   "name": "python",
   "nbconvert_exporter": "python",
   "pygments_lexer": "ipython3",
   "version": "3.10.10"
  }
 },
 "nbformat": 4,
 "nbformat_minor": 5
}
