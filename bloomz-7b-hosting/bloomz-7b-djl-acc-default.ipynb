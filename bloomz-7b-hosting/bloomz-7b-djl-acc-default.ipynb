{
 "cells": [
  {
   "cell_type": "code",
   "execution_count": 1,
   "id": "7994af8e-9ca2-437c-8f5c-12dbee0ff175",
   "metadata": {
    "tags": []
   },
   "outputs": [],
   "source": [
    "import sagemaker\n",
    "from sagemaker import image_uris\n",
    "import boto3\n",
    "import os\n",
    "import time\n",
    "import json\n",
    "from pathlib import Path\n",
    "from sagemaker.utils import name_from_base\n",
    "\n",
    "role = sagemaker.get_execution_role()  # execution role for the endpoint\n",
    "sess = sagemaker.session.Session()  # sagemaker session for interacting with different AWS APIs\n",
    "default_bucket = sess.default_bucket()  # bucket to house artifacts\n",
    "region = sess._region_name"
   ]
  },
  {
   "cell_type": "code",
   "execution_count": 2,
   "id": "4ca9ee9e",
   "metadata": {
    "tags": []
   },
   "outputs": [],
   "source": [
    "code_tarname = 'acc_blmz_model_defaut'"
   ]
  },
  {
   "cell_type": "code",
   "execution_count": 3,
   "id": "dd1a655a",
   "metadata": {
    "tags": []
   },
   "outputs": [
    {
     "name": "stdout",
     "output_type": "stream",
     "text": [
      "acc_blmz_model_defaut/\n",
      "acc_blmz_model_defaut/serving.properties\n",
      "s3://sagemaker-us-east-1-633205212955/tmp0615/v2-2023-06-16-00-05-06-609/acc_blmz_model_defaut.tar.gz\n"
     ]
    }
   ],
   "source": [
    "!rm -rf {code_tarname}.tar.gz\n",
    "!rm -rf {code_tarname}/.ipynb_checkpoints\n",
    "!tar czvf {code_tarname}.tar.gz {code_tarname}/\n",
    "\n",
    "# copy the deployment configs tar to a path (different from hf model artifacts)\n",
    "s3_code_artifact = sess.upload_data(f\"{code_tarname}.tar.gz\", default_bucket, sagemaker.utils.name_from_base(\"tmp0615/v2\"))\n",
    "print(s3_code_artifact)"
   ]
  },
  {
   "cell_type": "code",
   "execution_count": null,
   "id": "88262ac7",
   "metadata": {},
   "outputs": [],
   "source": []
  },
  {
   "cell_type": "code",
   "execution_count": 4,
   "id": "9a7155d2-faf9-44e2-bd56-29758bd82c53",
   "metadata": {
    "tags": []
   },
   "outputs": [],
   "source": [
    "from sagemaker.model import Model\n",
    "from sagemaker import serializers, deserializers\n",
    "from sagemaker import image_uris\n",
    "\n",
    "# specify a inference container version, found at https://github.com/aws/deep-learning-containers/blob/master/available_images.md#large-model-inference-containers\n",
    "inference_image_uri = f\"763104351884.dkr.ecr.{region}.amazonaws.com/djl-inference:0.22.1-deepspeed0.9.2-cu118\"\n",
    "\n",
    "endpoint_name = sagemaker.utils.name_from_base(code_tarname.replace('_','-'))"
   ]
  },
  {
   "cell_type": "code",
   "execution_count": 5,
   "id": "a89e878f-c28f-4880-8c86-7f66454682e0",
   "metadata": {
    "tags": []
   },
   "outputs": [
    {
     "name": "stdout",
     "output_type": "stream",
     "text": [
      "---------------!"
     ]
    }
   ],
   "source": [
    "model = Model(image_uri=inference_image_uri,\n",
    "              model_data=s3_code_artifact, \n",
    "              role=role)\n",
    "\n",
    "model.deploy(initial_instance_count = 1,\n",
    "             instance_type = 'ml.g5.2xlarge',\n",
    "             endpoint_name = endpoint_name,\n",
    "             container_startup_health_check_timeout = 900\n",
    "            )"
   ]
  },
  {
   "cell_type": "code",
   "execution_count": 6,
   "id": "def0ec6b-9c7d-4d28-8ef3-c807e287ed09",
   "metadata": {},
   "outputs": [],
   "source": [
    "predictor = sagemaker.Predictor(\n",
    "            endpoint_name=endpoint_name,\n",
    "            sagemaker_session=sess,\n",
    "            serializer=serializers.JSONSerializer(),\n",
    "            deserializer=deserializers.JSONDeserializer(),\n",
    "            )"
   ]
  },
  {
   "cell_type": "code",
   "execution_count": 7,
   "id": "2b9d555a-263d-42c2-90a1-56b022dd0fe1",
   "metadata": {},
   "outputs": [
    {
     "data": {
      "text/plain": [
       "[{'generated_text': 'Translate to English: Je t’aime. I love you.'}]"
      ]
     },
     "execution_count": 7,
     "metadata": {},
     "output_type": "execute_result"
    }
   ],
   "source": [
    "predictor.predict(\n",
    "    {\"inputs\": \"Translate to English: Je t’aime.\", \"parameters\": {\"max_new_tokens\": 100}}\n",
    ")"
   ]
  },
  {
   "cell_type": "markdown",
   "id": "1d1e9c92-5346-4a88-97b0-7a7d4d6bd0ba",
   "metadata": {},
   "source": [
    "ModelError: An error occurred (ModelError) when calling the InvokeEndpoint operation: Received client error (424) from primary with message \"{\n",
    "  \"code\":424,\n",
    "  \"message\":\"prediction failure\",\n",
    "  \"error\":\"CUDA out of memory. Tried to allocate 256.00 MiB (GPU 0; 22.20 GiB total capacity; 20.45 GiB already allocated; 173.12 MiB free; 20.67 GiB reserved in total by PyTorch) If reserved memory is >> allocated memory try setting max_split_size_mb to avoid fragmentation.  See documentation for Memory Management and PYTORCH_CUDA_ALLOC_CONF\"\n",
    "}\""
   ]
  },
  {
   "cell_type": "code",
   "execution_count": 10,
   "id": "12fefd68-a76d-40d2-b9e9-b421a0d5ec6c",
   "metadata": {
    "tags": []
   },
   "outputs": [
    {
     "data": {
      "text/plain": [
       "[{'generated_text': 'tuna sandwich detailed nutritional content is  - calories , fat , protein , carbohydrates , sodium , cholesterol , sugar , fiber , vitamin a , vitamin b , vitamin c , vitamin'}]"
      ]
     },
     "execution_count": 10,
     "metadata": {},
     "output_type": "execute_result"
    }
   ],
   "source": [
    "predictor.predict(\n",
    "    {\"inputs\": \"tuna sandwich detailed nutritional content is \", \"parameters\": {\"max_new_tokens\": 30}}\n",
    ")"
   ]
  },
  {
   "cell_type": "code",
   "execution_count": 11,
   "id": "d6332c73-833f-4e6c-bd2d-cc660742397f",
   "metadata": {},
   "outputs": [
    {
     "name": "stdout",
     "output_type": "stream",
     "text": [
      "17.5 s ± 0 ns per loop (mean ± std. dev. of 1 run, 3 loops each)\n"
     ]
    }
   ],
   "source": [
    "%%timeit -n3 -r1\n",
    "predictor.predict(\n",
    "    {\"inputs\": \"tuna sandwich detailed nutritional content is \", \"parameters\": {\"max_new_tokens\": 30}}\n",
    ")"
   ]
  },
  {
   "cell_type": "code",
   "execution_count": null,
   "id": "f11ef80d-90d6-4559-b62f-88e3a5a38c20",
   "metadata": {},
   "outputs": [],
   "source": []
  }
 ],
 "metadata": {
  "kernelspec": {
   "display_name": "conda_python3",
   "language": "python",
   "name": "conda_python3"
  },
  "language_info": {
   "codemirror_mode": {
    "name": "ipython",
    "version": 3
   },
   "file_extension": ".py",
   "mimetype": "text/x-python",
   "name": "python",
   "nbconvert_exporter": "python",
   "pygments_lexer": "ipython3",
   "version": "3.10.10"
  }
 },
 "nbformat": 4,
 "nbformat_minor": 5
}
